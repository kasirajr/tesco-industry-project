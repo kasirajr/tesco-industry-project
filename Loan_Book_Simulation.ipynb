{
 "cells": [
  {
   "cell_type": "markdown",
   "metadata": {},
   "source": [
    "# Simulate loan book\n",
    "Douglas McLean, 28/6/2023\n",
    "\n",
    "## The Ask\n",
    "Simulate the loan book composition over time between five domiciled retail banks. The banks all start with zero loans written. They fund their loans with cash from their current accounts, savings book and by borrowing from each other and their central bank. Their savings accounts have different initial amounts but are drawn from a normal distribution of mean £1 billion and standard deviation £5 million (there is some £870bn in U.K. savings accounts spread amongst some 73 retail banks operating in the U.K.). Market interest rates fluctuate and are risky. The banks charge interest on their loans. They offer loans between £1000 and £25000. The banks change their interest rates competitively to maximise their returns. The  components needed to write a simulation model in Python over time are as follows.\n",
    "\n",
    "### Key Modelling Points\n",
    "1. Banks: Create a class to represent each bank, including attributes such as current account balance, savings account balance, loan book composition, interest rates, and methods to update these attributes based on simulation rules.\n",
    "\n",
    "2. Loans: Generate loans with random amounts between £1000 and £25000. Assign these loans to the banks based on their funding sources and update the loan book composition of each bank accordingly.\n",
    "\n",
    "3. Funding: Define the rules for banks to fund their loans. This can include using cash from their current accounts, savings accounts, borrowing from each other, and borrowing from the central bank. Implement methods to update the funding sources and loan book composition based on these rules.\n",
    "\n",
    "4. Interest Rates: Define a model to simulate fluctuating and risky market interest rates. This can be based on historical data or a stochastic process. Update the interest rates of each bank competitively to maximize their returns. Consider the impact of interest rate changes on the loan book composition and profitability of each bank.\n",
    "\n",
    "5. Simulation Loop: Write a loop to simulate the system over time. In each iteration, update the funding, interest rates, loan book composition, and profitability of each bank. Monitor and record the changes in the loan book composition and other relevant metrics at each time step.\n",
    "\n",
    "6. Analysis and Visualization: After running the simulation, analyze and visualize the results to understand the dynamics of the loan book composition over time. This can involve plotting the loan book composition, profitability, and other key metrics for each bank.\n",
    "\n",
    "## Potential Code Solution\n",
    "Simulation model to study the loan book composition and dynamics between the five domiciled retail banks over time.\n",
    "\n"
   ]
  },
  {
   "cell_type": "code",
   "execution_count": 1,
   "outputs": [],
   "source": [
    "import random\n",
    "import matplotlib.pyplot as plt\n",
    "import pandas as pd\n",
    "import numpy as np\n",
    "import QuantLib as ql"
   ],
   "metadata": {
    "collapsed": false
   }
  },
  {
   "cell_type": "code",
   "execution_count": 2,
   "metadata": {},
   "outputs": [],
   "source": [
    "class Bank:\n",
    "    def __init__(self, name, current_balance, savings_balance, loan_book_composition, interest_rate):\n",
    "        self.name = name\n",
    "        self.current_balance = current_balance\n",
    "        self.savings_balance = savings_balance\n",
    "        self.loan_book_composition = loan_book_composition\n",
    "        self.interest_rate = interest_rate\n",
    "\n",
    "    def update_loan_book_composition(self, new_loan):\n",
    "        self.loan_book_composition.append(new_loan)\n",
    "\n",
    "    def update_funding_sources(self, loan_amount):\n",
    "        # Update funding sources based on simulation rules\n",
    "        # Example: Deduct loan amount from current balance\n",
    "        self.current_balance -= loan_amount\n",
    "\n",
    "    def update_interest_rate(self):\n",
    "        # Update interest rate based on simulation rules\n",
    "        # Example: Randomly fluctuating interest rate\n",
    "        self.interest_rate = random.uniform(0.05, 0.1)\n",
    "\n",
    "class Loan:\n",
    "    def __init__(self, amount):\n",
    "        self.amount = amount\n",
    "\n",
    "def generate_loans(num_loans):\n",
    "    loans = []\n",
    "    for _ in range(num_loans):\n",
    "        loan_amount = random.randint(1000, 25000)\n",
    "        loans.append(Loan(loan_amount))\n",
    "    return loans\n",
    "\n",
    "def simulate_loan_book(num_banks, num_loans, num_iterations):\n",
    "    banks = []\n",
    "    for i in range(num_banks):\n",
    "        bank = Bank(f\"Bank {i+1}\", 1000000, 500000, [], 0.05)\n",
    "        banks.append(bank)\n",
    "\n",
    "    for _ in range(num_iterations):\n",
    "        loans = generate_loans(num_loans)\n",
    "        for loan in loans:\n",
    "            bank = random.choice(banks)\n",
    "            bank.update_loan_book_composition(loan)\n",
    "            bank.update_funding_sources(loan.amount)\n",
    "            bank.update_interest_rate()\n",
    "\n",
    "    # Perform analysis and visualization of loan book composition and other metrics\n",
    "    # Example: Print loan book composition for each bank\n",
    "    # for bank in banks:\n",
    "    #    print(f\"{bank.name}: {bank.loan_book_composition}\")\n",
    "\n",
    "# Run the simulation\n",
    "num_banks = 5\n",
    "num_loans = 100\n",
    "num_iterations = 10\n",
    "\n",
    "loan_book_object = simulate_loan_book(num_banks, num_loans, num_iterations)"
   ]
  },
  {
   "cell_type": "markdown",
   "metadata": {},
   "source": [
    "Note: code provides basic framework for simulating the loan book composition. It needs customised and expanded further based on our specific requirements to incorporate customer default, loan amount and tenure tranches."
   ]
  },
  {
   "cell_type": "markdown",
   "metadata": {},
   "source": [
    "## Credit Default Modelling & Demographics\n",
    "Now suppose that customer quality varies by probability of defaulting. Assume a range of default probabilities across a range of demographics. The banks’ loan books are then broadly stratified into tranches of credit default quality (high to low), loan amount (high to low amounts) and loan tenure (repayment length). Modify the Python code to accommodate these improvements\n",
    "\n",
    "### Python modifications \n",
    "To accommodate customer quality variations by probability of defaulting, as well as stratify loan books into tranches of credit default quality, loan amount, and loan tenure, the following changes 1-6 are made:\n",
    "\n",
    "1. Update the `Loan` class to include attributes for customer quality and probability of defaulting:\n"
   ]
  },
  {
   "cell_type": "code",
   "execution_count": 3,
   "metadata": {},
   "outputs": [],
   "source": [
    "class Loan(Loan):\n",
    "    def __init__(self, amount, tenure, customer_quality,):\n",
    "        self.amount = amount\n",
    "        self.tenure = tenure\n",
    "        self.customer_quality = customer_quality\n",
    "        self.interest_rate = self.calculate_interest_rate()\n",
    "        self.default_probability = self.calculate_default_probability()\n",
    "        self.defaulted = False\n",
    "\n",
    "    def calculate_default_probability(self):\n",
    "        # Calculate default probability based on customer quality\n",
    "        # Example: Assign default probability based on predefined ranges\n",
    "        if self.customer_quality == \"high\":\n",
    "            return random.uniform(0.01, 0.05)\n",
    "        elif self.customer_quality == \"medium\":\n",
    "            return random.uniform(0.05, 0.15)\n",
    "        elif self.customer_quality == \"low\":\n",
    "            return random.uniform(0.15, 0.3)\n",
    "        else:\n",
    "            return 0.0\n",
    "    def calculate_interest_rate(self):\n",
    "        if self.customer_quality == \"high\":\n",
    "            return round(random.uniform(0.05, 0.065), 4)\n",
    "        elif self.customer_quality == \"medium\":\n",
    "            return round(random.uniform(0.065, 0.08), 4)\n",
    "        elif self.customer_quality == \"low\":\n",
    "            return round(random.uniform(0.08, 0.1), 4)\n",
    "        else:\n",
    "            return 0.0\n"
   ]
  },
  {
   "cell_type": "markdown",
   "metadata": {},
   "source": [
    "2. Modify the `generate_loans` function to generate loans with varying customer quality:"
   ]
  },
  {
   "cell_type": "code",
   "execution_count": 4,
   "metadata": {},
   "outputs": [],
   "source": [
    "def generate_loans(num_loans):\n",
    "    loans = []\n",
    "    for _ in range(num_loans):\n",
    "        loan_amount = random.randint(1000, 25000) #amounts in GBP Sterling\n",
    "        loan_tenure = random.randint(12, 60) #months\n",
    "        customer_quality = random.choice([\"high\", \"medium\", \"low\"])\n",
    "        loans.append(Loan(loan_amount, loan_tenure, customer_quality))\n",
    "    return loans"
   ]
  },
  {
   "cell_type": "markdown",
   "metadata": {},
   "source": [
    "3. Update the `Bank` class to include methods for stratifying loan books based on credit default quality, loan amount, and loan tenure:"
   ]
  },
  {
   "cell_type": "code",
   "execution_count": 5,
   "metadata": {},
   "outputs": [],
   "source": [
    "class Bank(Bank):\n",
    "    # ...existing code...\n",
    "\n",
    "    def stratify_loan_book_by_credit_quality(self, loans=None):\n",
    "        if loans is None:\n",
    "            loans = self.loan_book_composition\n",
    "        # Stratify loan book by credit default quality\n",
    "        low_quality_loans = [loan for loan in loans if loan.customer_quality == \"low\"]\n",
    "        medium_quality_loans = [loan for loan in loans if loan.customer_quality == \"medium\"]\n",
    "        high_quality_loans = [loan for loan in loans if loan.customer_quality == \"high\"]\n",
    "        return high_quality_loans, medium_quality_loans, low_quality_loans\n",
    "\n",
    "    def stratify_loan_book_by_loan_amount(self, loans=None):\n",
    "        if loans is None:\n",
    "            loans = self.loan_book_composition\n",
    "        # Stratify loan book by loan amount\n",
    "        low_amount_loans = [loan for loan in loans if loan.amount <= 5000]\n",
    "        medium_amount_loans = [loan for loan in loans if 5000 < loan.amount <= 15000]\n",
    "        high_amount_loans = [loan for loan in loans if loan.amount > 15000]\n",
    "        # sorted_loans = sorted(self.loan_book_composition, key=lambda loan: loan.amount, reverse=True)\n",
    "        return high_amount_loans, medium_amount_loans, low_amount_loans\n",
    "\n",
    "    def stratify_loan_book_by_loan_tenure(self, loans=None):\n",
    "        if loans is None:\n",
    "            loans = self.loan_book_composition\n",
    "        # Stratify loan book by loan tenure\n",
    "        low_tenure_loans = [loan for loan in loans if loan.tenure <= 24]\n",
    "        medium_tenure_loans = [loan for loan in loans if 24 < loan.tenure <= 48]\n",
    "        high_tenure_loans = [loan for loan in loans if loan.tenure > 48]\n",
    "        # sorted_loans = sorted(self.loan_book_composition, key=lambda loan: loan.tenure, reverse=True)\n",
    "        return high_tenure_loans, medium_tenure_loans,low_tenure_loans\n"
   ]
  },
  {
   "cell_type": "markdown",
   "metadata": {},
   "source": [
    "4. Modify the simulation loop in the `simulate_loan_book` function to include the loan stratification methods:"
   ]
  },
  {
   "cell_type": "code",
   "execution_count": 6,
   "metadata": {},
   "outputs": [],
   "source": [
    "def simulate_loan_book(num_banks, num_loans, num_iterations):\n",
    "    banks = []\n",
    "    for i in range(num_banks):\n",
    "        bank = Bank(f\"Bank {i+1}\", 1000000, 500000, [], 0.05)\n",
    "        banks.append(bank)\n",
    "\n",
    "    for _ in range(num_iterations):\n",
    "        loans = generate_loans(num_loans)\n",
    "        for loan in loans:\n",
    "            bank = random.choice(banks)\n",
    "            bank.update_loan_book_composition(loan)\n",
    "            bank.update_funding_sources(loan.amount)\n",
    "            bank.update_interest_rate()"
   ]
  },
  {
   "cell_type": "markdown",
   "metadata": {},
   "source": [
    "We'll need to perform analysis and visualization of loan book composition and performance for each bank, considering the stratification methods:\n",
    "\n",
    "5. Add a new method to the `Bank` class for analyzing the loan book composition and performance:"
   ]
  },
  {
   "cell_type": "code",
   "execution_count": 7,
   "metadata": {},
   "outputs": [],
   "source": [
    "class Bank(Bank):\n",
    "    # ...existing code...\n",
    "\n",
    "    # Get 27 tranches\n",
    "    def loan_tranches(self):\n",
    "        loan_tranches_quality = list(self.stratify_loan_book_by_credit_quality())\n",
    "        loan_tranches_quality_tenure = []\n",
    "        for loan_tranche in loan_tranches_quality:\n",
    "            loan_tranches_quality_tenure.extend(self.stratify_loan_book_by_loan_tenure(loan_tranche))\n",
    "        loan_tranches_quality_tenure_amount = []\n",
    "        for loan_tranche in loan_tranches_quality_tenure:\n",
    "            loan_tranches_quality_tenure_amount.extend(self.stratify_loan_book_by_loan_amount(loan_tranche))\n",
    "        return loan_tranches_quality_tenure_amount\n",
    "\n",
    "    def analyze_loan_book(self, loans):\n",
    "        # Analyze loan book composition and performance\n",
    "        total_loans = len(loans)\n",
    "        total_defaulted_loans = sum(1 for loan in loans if loan.defaulted)\n",
    "        default_rate = total_defaulted_loans / total_loans\n",
    "\n",
    "        # Add further analysis based on loan stratification if required\n",
    "\n",
    "        return total_loans, total_defaulted_loans, default_rate"
   ]
  },
  {
   "cell_type": "markdown",
   "metadata": {},
   "source": [
    "6. Update the `simulate_loan_book` function to analyze and visualize the loan book composition and performance for each bank:"
   ]
  },
  {
   "cell_type": "code",
   "execution_count": 8,
   "metadata": {},
   "outputs": [],
   "source": [
    "def simulate_loan_book(num_banks, num_loans, num_iterations):\n",
    "    banks = []\n",
    "    for i in range(num_banks):\n",
    "        bank = Bank(f\"Bank {i+1}\", 1000000000, 500000, [], 0.05)\n",
    "        banks.append(bank)\n",
    "\n",
    "    for _ in range(num_iterations):\n",
    "        loans = generate_loans(num_loans)\n",
    "        for loan in loans:\n",
    "            bank = random.choice(banks)\n",
    "            bank.update_loan_book_composition(loan)\n",
    "            bank.update_funding_sources(loan.amount)\n",
    "            bank.update_interest_rate()\n",
    "\n",
    "    # for bank in banks:\n",
    "    #     high_quality_loans, medium_quality_loans, low_quality_loans = bank.stratify_loan_book_by_credit_quality()\n",
    "    #     sorted_loans_by_amount = bank.stratify_loan_book_by_loan_amount()\n",
    "    #     sorted_loans_by_tenure = bank.stratify_loan_book_by_loan_tenure()\n",
    "\n",
    "        # Analyze and visualize loan book composition and performance\n",
    "        # total_loans, total_defaulted_loans, default_rate = bank.analyze_loan_book(bank.loan_book_composition)\n",
    "\n",
    "        # Add further visualization or analysis based on loan stratification if required\n",
    "    return banks"
   ]
  },
  {
   "cell_type": "code",
   "execution_count": 9,
   "outputs": [],
   "source": [
    "banks = simulate_loan_book(5, 10000, 38)"
   ],
   "metadata": {
    "collapsed": false
   }
  },
  {
   "cell_type": "code",
   "execution_count": 10,
   "outputs": [],
   "source": [
    "# HHH Tranche (Move this code to bank class to generate 27 tranches based on conditions like this)\n",
    "# tenure Low 12 - 24, Medium 25-48, High 48-60\n",
    "# amount Low 1000 - 5000, Medium 5001-15000, High 15001-25000\n",
    "# credit quality Low, Medium, High\n",
    "# loan_values = []\n",
    "# for bank in banks:\n",
    "# bank = banks[0]\n",
    "# for loan in bank.loan_book_composition:\n",
    "#     if loan.customer_quality == 'high' and loan.tenure > 48 and loan.amount > 15000:\n",
    "#         tranche.append(loan)\n",
    "    # loan_values.append({\"amount\": loan.amount, \"tenure\": loan.tenure, \"quality\": loan.customer_quality, \"interest\": loan.interest_rate})\n",
    "\n",
    "# df = pd.DataFrame(loan_values)\n",
    "# df = df[df['quality']=='high']\n",
    "# df = df[df['tenure']>48]\n",
    "# df = df[df['amount']>15000]\n",
    "# df"
   ],
   "metadata": {
    "collapsed": false
   }
  },
  {
   "cell_type": "code",
   "execution_count": 11,
   "outputs": [],
   "source": [
    "loan_tranches = banks[0].loan_tranches()"
   ],
   "metadata": {
    "collapsed": false
   }
  },
  {
   "cell_type": "code",
   "execution_count": 12,
   "outputs": [
    {
     "data": {
      "text/plain": "27"
     },
     "execution_count": 12,
     "metadata": {},
     "output_type": "execute_result"
    }
   ],
   "source": [
    "len(loan_tranches)"
   ],
   "metadata": {
    "collapsed": false
   }
  },
  {
   "cell_type": "markdown",
   "metadata": {},
   "source": [
    "By implementing these modifications, the Python code now accommodate customer quality variations by probability of defaulting and stratifies loan books into tranches based on credit default quality, loan amount, and loan tenure"
   ]
  },
  {
   "cell_type": "markdown",
   "metadata": {},
   "source": [
    "## Visualisation\n",
    "Visualize the tranches over time and write out to a CSV file based on simulation output, follow these steps:"
   ]
  },
  {
   "cell_type": "code",
   "execution_count": 13,
   "metadata": {},
   "outputs": [
    {
     "ename": "NameError",
     "evalue": "name 'tranches' is not defined",
     "output_type": "error",
     "traceback": [
      "\u001B[0;31m---------------------------------------------------------------------------\u001B[0m",
      "\u001B[0;31mNameError\u001B[0m                                 Traceback (most recent call last)",
      "Cell \u001B[0;32mIn[13], line 9\u001B[0m\n\u001B[1;32m      1\u001B[0m \u001B[38;5;66;03m# 1. Import the necessary libraries:\u001B[39;00m\n\u001B[1;32m      2\u001B[0m \u001B[38;5;66;03m# import pandas as pd\u001B[39;00m\n\u001B[1;32m      3\u001B[0m \u001B[38;5;66;03m# import matplotlib.pyplot as plt\u001B[39;00m\n\u001B[0;32m   (...)\u001B[0m\n\u001B[1;32m      7\u001B[0m \n\u001B[1;32m      8\u001B[0m \u001B[38;5;66;03m# 3. Create a pandas DataFrame using the `tranches` list:\u001B[39;00m\n\u001B[0;32m----> 9\u001B[0m df \u001B[38;5;241m=\u001B[39m pd\u001B[38;5;241m.\u001B[39mDataFrame(\u001B[43mtranches\u001B[49m, columns\u001B[38;5;241m=\u001B[39m[\u001B[38;5;124m'\u001B[39m\u001B[38;5;124mTime Period\u001B[39m\u001B[38;5;124m'\u001B[39m, \u001B[38;5;124m'\u001B[39m\u001B[38;5;124mTranche Value\u001B[39m\u001B[38;5;124m'\u001B[39m]) \n\u001B[1;32m     10\u001B[0m \u001B[38;5;66;03m# Make sure to modify the column names accordingly if they differ from the example.\u001B[39;00m\n\u001B[1;32m     11\u001B[0m \n\u001B[1;32m     12\u001B[0m \u001B[38;5;66;03m# 4. Visualize the tranches over time using a line plot:\u001B[39;00m\n\u001B[1;32m     13\u001B[0m plt\u001B[38;5;241m.\u001B[39mplot(df[\u001B[38;5;124m'\u001B[39m\u001B[38;5;124mTime Period\u001B[39m\u001B[38;5;124m'\u001B[39m], df[\u001B[38;5;124m'\u001B[39m\u001B[38;5;124mTranche Value\u001B[39m\u001B[38;5;124m'\u001B[39m])\n",
      "\u001B[0;31mNameError\u001B[0m: name 'tranches' is not defined"
     ]
    }
   ],
   "source": [
    "\n",
    "# 1. Import the necessary libraries:\n",
    "# import pandas as pd\n",
    "# import matplotlib.pyplot as plt\n",
    "\n",
    "# 2. After running your existing simulation code, you will have the `tranches` list, which contains the values of tranches over time.\n",
    "# <add here>\n",
    "\n",
    "# 3. Create a pandas DataFrame using the `tranches` list:\n",
    "df = pd.DataFrame(tranches, columns=['Time Period', 'Tranche Value']) \n",
    "# Make sure to modify the column names accordingly if they differ from the example.\n",
    "\n",
    "# 4. Visualize the tranches over time using a line plot:\n",
    "plt.plot(df['Time Period'], df['Tranche Value'])\n",
    "plt.xlabel('Time Period')\n",
    "plt.ylabel('Tranche Value')\n",
    "plt.title('Tranches over Time')\n",
    "plt.xticks(rotation=45)\n",
    "plt.show()\n",
    "\n",
    "# 5. Save the visualization as an image:\n",
    "plt.savefig('tranches_graph.png')\n",
    "\n",
    "# 6. Write the tranches data to a CSV file:\n",
    "df.to_csv('tranches_data.csv', index=False)"
   ]
  },
  {
   "cell_type": "markdown",
   "metadata": {},
   "source": [
    "# End-to-End Code\n",
    "\n",
    "The complete code for simulation and visualisation to look as follows:\n",
    "\n",
    "```python\n",
    "```\n",
    "\n",
    "\n"
   ]
  },
  {
   "cell_type": "code",
   "execution_count": null,
   "metadata": {},
   "outputs": [],
   "source": [
    "# import pandas as pd\n",
    "# import matplotlib.pyplot as plt\n",
    "\n",
    "# Your existing code and simulation output here\n",
    "\n",
    "# Create a pandas DataFrame from the tranches list df = pd.DataFrame(tranches, columns=['Time Period', 'Tranche Value'])\n",
    "\n",
    "# Visualize the tranches over time\n",
    "plt.plot(df['Time Period'], df['Tranche Value'])\n",
    "plt.xlabel('Time Period') \n",
    "plt.ylabel('Tranche Value') \n",
    "plt.title('Tranches over Time')\n",
    "plt.xticks(rotation=45)\n",
    "plt.show()\n",
    "\n",
    "# Save the graph as an image\n",
    "plt.savefig('tranches_graph.png')\n",
    "\n",
    "# Write the tranches data to a CSV file\n",
    "df.to_csv('tranches_data.csv', index=False)"
   ]
  },
  {
   "cell_type": "markdown",
   "metadata": {},
   "source": [
    "Make sure to adjust the column names and data accordingly based on your specific simulation output.\n",
    "\n",
    "This code will generate a line graph of the tranches over time, save it as \"tranches_graph.png\", and write the data to a CSV file named \"tranches_data.csv\" without including the index column."
   ]
  },
  {
   "cell_type": "markdown",
   "metadata": {},
   "source": []
  }
 ],
 "metadata": {
  "interpreter": {
   "hash": "b89b5cfaba6639976dc87ff2fec6d58faec662063367e2c229c520fe71072417"
  },
  "kernelspec": {
   "display_name": "Python 3.10.4 64-bit (system)",
   "language": "python",
   "name": "python3"
  },
  "language_info": {
   "codemirror_mode": {
    "name": "ipython",
    "version": 3
   },
   "file_extension": ".py",
   "mimetype": "text/x-python",
   "name": "python",
   "nbconvert_exporter": "python",
   "pygments_lexer": "ipython3",
   "version": "3.10.4"
  },
  "orig_nbformat": 4
 },
 "nbformat": 4,
 "nbformat_minor": 2
}
