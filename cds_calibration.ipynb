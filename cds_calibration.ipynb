{
 "cells": [
  {
   "cell_type": "code",
   "execution_count": 1,
   "outputs": [],
   "source": [
    "import extended_cir\n",
    "import pandas as pd\n",
    "file_path = \"data.xlsx\"\n",
    "ir_termS = pd.read_excel(file_path, sheet_name='interest_rate_term_structure')\n",
    "cr_termS = pd.read_excel(file_path, sheet_name='credit_risk_term_structure')\n",
    "ir_params = pd.read_excel(file_path, sheet_name='interest_rate_parameters')\n",
    "cr_params = pd.read_excel(file_path, sheet_name='credit_risk_parameters')\n",
    "cr_model = extended_cir.CreditRiskCIRPP(ir_termS, cr_termS, cr_params['k'][0], cr_params['theta'][0],\n",
    "                                        cr_params['sigma'][0], cr_params['x0'][0], cr_params['recovery_rate'][0], cr_params['premium_frequency'][0])"
   ],
   "metadata": {
    "collapsed": false
   }
  },
  {
   "cell_type": "code",
   "execution_count": 2,
   "outputs": [],
   "source": [
    "def A(t, T, params):\n",
    "    k, theta, sigma, x0 = params\n",
    "    h = np.sqrt(np.square(k) + 2 * np.square(sigma))\n",
    "    tau = T - t\n",
    "    power = 2 * k * theta / sigma ** 2\n",
    "    denominator = 2 * h + (k + h) * (np.exp(tau * h) - 1)\n",
    "    numerator = 2 * h * (np.exp((k + h) * tau / 2))\n",
    "    return (numerator / denominator) ** power\n",
    "\n",
    "def B(t, T, params):\n",
    "    k, theta, sigma, x0 = params\n",
    "    h = np.sqrt(np.square(k) + 2 * np.square(sigma))\n",
    "    tau = T - t\n",
    "    numerator = 2 * (np.exp(tau * h) - 1)\n",
    "    denominator = 2 * h + (k + h) * (np.exp(tau * h) - 1)\n",
    "    return numerator / denominator\n",
    "\n",
    "def pcir(t, T, xt, params):\n",
    "    return A(t, T, params) * np.exp(-B(t, T, params) * xt)\n",
    "\n",
    "def fcir(t, params):\n",
    "    k, theta, sigma, x0 = params\n",
    "    return np.log(pcir(0, t, x0, params))\n",
    "\n",
    "def omega(t, spline, params):\n",
    "    return spline(t) + fcir(t, params)\n",
    "\n",
    "def omega_2(t, spline, params):\n",
    "    return (spline(t) + fcir(t, params))**2"
   ],
   "metadata": {
    "collapsed": false
   }
  },
  {
   "cell_type": "code",
   "execution_count": 5,
   "outputs": [
    {
     "name": "stdout",
     "output_type": "stream",
     "text": [
      "Fitted parameters: [0.35590523 0.00149927 0.00237648 0.00197182]\n"
     ]
    }
   ],
   "source": [
    "import numpy as np\n",
    "from scipy.optimize import minimize\n",
    "from scipy.integrate import quad\n",
    "def func_minimize(params):\n",
    "    g = lambda x: omega_2(x, cr_model.termStructureSpline, params)\n",
    "    return quad(g, 0, 10)[0]\n",
    "\n",
    "def constras(params, t):\n",
    "    return omega(t, cr_model.termStructureSpline, params)\n",
    "\n",
    "def post_constraint(params):\n",
    "    k, theta, sigma, x0 = params\n",
    "    return 2*k*theta - sigma**2\n",
    "\n",
    "constraints = []\n",
    "difft= 20/12\n",
    "for j in np.arange(2*difft, 60/12, difft):\n",
    "    constraints.append({'type': 'ineq', 'fun': lambda params, i=j: constras(params, i) - constras(params, i - difft)})\n",
    "constraints.append({'type': 'ineq', 'fun': post_constraint})\n",
    "\n",
    "initial_guess = [0.354201,0.00121853,0.00238186,0.0181]\n",
    "bounds = [(1e-1, 0.6), (1e-3, 0.01), (1e-3, 0.01), (1e-4, 0.1)]\n",
    "# call the minimization function with constraints\n",
    "result = minimize(func_minimize, initial_guess, method='SLSQP', constraints=constraints, bounds=bounds)\n",
    "\n",
    "# print the result\n",
    "if result.success:\n",
    "    fitted_params = result.x\n",
    "    print('Fitted parameters:', fitted_params)\n",
    "else:\n",
    "    raise ValueError(result.message)"
   ],
   "metadata": {
    "collapsed": false
   }
  },
  {
   "cell_type": "code",
   "execution_count": 4,
   "outputs": [],
   "source": [
    "# ValueError: Positive directional derivative for linesearch\n",
    "# ValueError: Inequality constraints incompatible\n",
    "# ValueError: Iteration limit reached"
   ],
   "metadata": {
    "collapsed": false
   }
  }
 ],
 "metadata": {
  "kernelspec": {
   "display_name": "Python 3",
   "language": "python",
   "name": "python3"
  },
  "language_info": {
   "codemirror_mode": {
    "name": "ipython",
    "version": 2
   },
   "file_extension": ".py",
   "mimetype": "text/x-python",
   "name": "python",
   "nbconvert_exporter": "python",
   "pygments_lexer": "ipython2",
   "version": "2.7.6"
  }
 },
 "nbformat": 4,
 "nbformat_minor": 0
}
