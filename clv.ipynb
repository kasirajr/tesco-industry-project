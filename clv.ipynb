{
 "cells": [
  {
   "cell_type": "code",
   "execution_count": null,
   "outputs": [],
   "source": [
    "import numpy as np\n",
    "import extended_cir\n",
    "import loan_simulation\n",
    "import matplotlib.pyplot as plt\n",
    "import pandas as pd"
   ],
   "metadata": {
    "collapsed": false
   }
  },
  {
   "cell_type": "code",
   "execution_count": null,
   "outputs": [],
   "source": [
    "def set_seed_extended_cir(seed=100):\n",
    "    extended_cir.np.random.seed(seed)\n",
    "\n",
    "\n",
    "def set_seed_loan_simulation(seed=123):\n",
    "    loan_simulation.np.random.seed(seed)\n",
    "\n",
    "\n",
    "def generate_ssrd_model(ir_termS, cr_termS, ir_params, cr_params, ssrd_params):\n",
    "    ir_model = extended_cir.InterestRateCIRPP(ir_termS, ir_params['k'][0], ir_params['theta'][0], ir_params['sigma'][0],\n",
    "                                              ir_params['x0'][0])\n",
    "    cr_model = extended_cir.CreditRiskCIRPP(ir_termS, cr_termS, cr_params['k'][0], cr_params['theta'][0],\n",
    "                                            cr_params['sigma'][0], cr_params['x0'][0], cr_params['recovery_rate'][0],\n",
    "                                            cr_params['premium_frequency'][0])\n",
    "    ssrd = extended_cir.SSRDSimulation(ir_model, cr_model, ssrd_params['rho'], ssrd_params['simulations'],\n",
    "                                       ssrd_params['time_step'], ssrd_params['T'])\n",
    "    return ssrd\n",
    "\n",
    "\n",
    "def simulate_funding_cost(ssrd, liquidity_risk_percent, risk_margin_percent):\n",
    "    set_seed_extended_cir()\n",
    "    rt, ct, ft = ssrd.simulateMC()\n",
    "    ft += liquidity_risk_percent\n",
    "    ft += risk_margin_percent\n",
    "    return ft, rt, ct\n",
    "\n",
    "\n",
    "def plot_funding_cost(ft, rt, ct):\n",
    "    plt.figure(figsize=(12, 8))\n",
    "    plt.plot(rt.T)\n",
    "    plt.title(\"Interest Rate(Risk Free)\")\n",
    "    plt.figure(figsize=(12, 8))\n",
    "    plt.plot(ct.T)\n",
    "    plt.title('Hazard Rate')\n",
    "    plt.figure(figsize=(12, 8))\n",
    "    plt.plot(ft.T)\n",
    "    plt.title('Funding Cost');\n",
    "\n",
    "\n",
    "def simulate_loan_tranches():\n",
    "    set_seed_loan_simulation()\n",
    "    loan_sim = loan_simulation.LoanBookSimulation(60, 10 * 1e7, 0.5)\n",
    "    loan_sim.simulate_loan_book()\n",
    "    loan_book = loan_sim.loan_book_segmentation();\n",
    "    return loan_sim.split_loan_into_tranches(loan_book)\n",
    "\n",
    "\n",
    "def yearly_to_monthly_rate(rate):\n",
    "    return (1 + rate) ** (1 / 12) - 1\n",
    "\n",
    "\n",
    "def survivorship(loan_rate, interest_rate, cric_p=0.33):\n",
    "    # return loan_rate <= interest_rate\n",
    "    h = 100\n",
    "    p = 1 / (1 + np.exp(-h * (interest_rate - loan_rate)))\n",
    "    return p > cric_p\n",
    "\n",
    "\n",
    "def calculate_clv(loan_tranche, simulations, max_loan_term, ft, rt):\n",
    "    loan_amount = sum(loan_tranche['loan_amount'])\n",
    "    total_loans = len(loan_tranche)\n",
    "    fixed_rate = sum(loan_tranche['fixed_rate']) / total_loans\n",
    "    loan_term = int(sum(loan_tranche['loan_term']) / total_loans)\n",
    "    monthly_rate = fixed_rate / 12\n",
    "    clvs = []\n",
    "    loan_life = []\n",
    "    emi = loan_amount * (monthly_rate * (1 + monthly_rate) ** loan_term) / ((1 + monthly_rate) ** loan_term - 1)\n",
    "    for sim_num in range(simulations):\n",
    "        clv = np.zeros(max_loan_term)\n",
    "        last_month = loan_term\n",
    "        outstanding_principal = loan_amount\n",
    "        for month in range(1, loan_term + 1):\n",
    "            monthly_interest = outstanding_principal * monthly_rate\n",
    "            principal_component = emi - monthly_interest\n",
    "            outstanding_principal -= principal_component\n",
    "            funding_cost = 1 + yearly_to_monthly_rate(ft[sim_num, month])\n",
    "            cf = monthly_interest / (funding_cost ** month)\n",
    "            if not survivorship(fixed_rate, rt[sim_num, month]):\n",
    "                last_month = month\n",
    "                clv[month - 1:max_loan_term] = clv[month - 2] + 3 * cf\n",
    "                break\n",
    "            clv[month - 1:max_loan_term] = clv[month - 2] + cf\n",
    "        clvs.append(clv / total_loans)\n",
    "        loan_life.append(last_month)\n",
    "\n",
    "    return np.array(clvs), np.array(loan_life)\n",
    "\n",
    "\n",
    "def find_clv(tranches, ft, rt, max_loan_term):\n",
    "    tranche_clvs = []\n",
    "    labels = []\n",
    "    for key, loan_tranche in tranches.items():\n",
    "        clvs, loan_life = calculate_clv(loan_tranche, ssrd_params['simulations'], max_loan_term, ft, rt)\n",
    "        labels.append(key)\n",
    "        tranche_clvs.append(clvs.mean(axis=0))\n",
    "    tranche_clvs = np.array(tranche_clvs)\n",
    "    labels = np.array(labels)\n",
    "    clv_table = pd.DataFrame({'label': labels, 'clv': tranche_clvs.T[:][-1]})\n",
    "    return labels, tranche_clvs, clv_table\n",
    "\n",
    "\n",
    "def plot_clv(labels, clvs, max_loan_term, top_tranches_to_disply, image_name):\n",
    "    # return\n",
    "    high_clv_indices = sorted_indexes_desc(clvs[:, max_loan_term - 1])\n",
    "    plt.figure(figsize=(12, 8))\n",
    "    plt.plot(clvs[high_clv_indices[:top_tranches_to_disply]].T,\n",
    "             label=labels[high_clv_indices[:top_tranches_to_disply]]);\n",
    "    plt.title('Evolution of CLV for each Tranche over 60 months');\n",
    "    leg_title = \"Legend(Amount, Term, Fixed Rate)\"\n",
    "    leg = plt.legend(title=leg_title)  #, loc='upper left', bbox_to_anchor=(1, 1))\n",
    "    plt.setp(leg.get_title(), weight='bold')\n",
    "    plt.savefig(f'{image_name}.png')\n",
    "    plt.show()\n",
    "\n",
    "def sorted_indexes_desc(clvs):\n",
    "    high_clv_indices = np.argsort(clvs)\n",
    "    return high_clv_indices[::-1]\n",
    "\n",
    "def display_clv(clvs_df):\n",
    "    high_clv_indices = sorted_indexes_desc(np.array(clvs_df['clv']))\n",
    "    print(clvs_df.iloc[high_clv_indices].to_string(index=False))\n",
    "\n",
    "def write_clv_to_excel(clvs, sheet_names):\n",
    "    with pd.ExcelWriter('clv_result.xlsx', engine='xlsxwriter') as writer:\n",
    "        for clv_table, sheet_name in zip(clvs, sheet_names):\n",
    "            clv_table.to_excel(writer, sheet_name=sheet_name, index=False)"
   ],
   "metadata": {
    "collapsed": false
   }
  },
  {
   "cell_type": "markdown",
   "source": [
    "### Simulate Funding Cost Using SSRD Model"
   ],
   "metadata": {
    "collapsed": false
   }
  },
  {
   "cell_type": "code",
   "execution_count": null,
   "outputs": [],
   "source": [
    "file_path = \"data.xlsx\"\n",
    "ir_termS = pd.read_excel(file_path, sheet_name='interest_rate_term_structure')\n",
    "cr_termS = pd.read_excel(file_path, sheet_name='credit_risk_term_structure')\n",
    "ir_params = pd.read_excel(file_path, sheet_name='interest_rate_parameters')\n",
    "cr_params = pd.read_excel(file_path, sheet_name='credit_risk_parameters')\n",
    "liquidity_risk_bps = np.linspace(0.0025, 0.01, 61)\n",
    "risk_margin_bps = 0.005\n",
    "max_loan_tenure = 60\n",
    "top_tranche_clv_to_display = 10\n",
    "clv_tables = []\n",
    "clv_sheet_names = []\n",
    "ssrd_params = {'simulations': 1000, 'time_step': 1 / 12, 'T': 5, 'rho': 0.3}\n",
    "ssrd = generate_ssrd_model(ir_termS, cr_termS, ir_params, cr_params, ssrd_params)\n",
    "funding_cost, risk_free_rate, credit_premia = simulate_funding_cost(ssrd, liquidity_risk_bps, risk_margin_bps)\n",
    "plot_funding_cost(funding_cost, risk_free_rate, credit_premia)"
   ],
   "metadata": {
    "collapsed": false
   }
  },
  {
   "cell_type": "markdown",
   "source": [
    "### Find CLV under normal condition"
   ],
   "metadata": {
    "collapsed": false
   }
  },
  {
   "cell_type": "code",
   "execution_count": null,
   "outputs": [],
   "source": [
    "loan_tranches = simulate_loan_tranches()\n",
    "clv_labels, trancheClvs, clv_for_excel = find_clv(loan_tranches, funding_cost, risk_free_rate, max_loan_tenure)\n",
    "clv_tables.append(clv_for_excel)\n",
    "clv_sheet_names.append('no_stress')\n",
    "plot_clv(clv_labels, trancheClvs, max_loan_tenure, top_tranche_clv_to_display, 'without_stress');\n",
    "display_clv(clv_for_excel)"
   ],
   "metadata": {
    "collapsed": false
   }
  },
  {
   "cell_type": "markdown",
   "source": [
    "### Under Interest rate 1.1 Vol Stress"
   ],
   "metadata": {
    "collapsed": false
   }
  },
  {
   "cell_type": "code",
   "execution_count": null,
   "outputs": [],
   "source": [
    "file_path = \"data.xlsx\"\n",
    "ir_termS = pd.read_excel(file_path, sheet_name='interest_rate_term_structure')\n",
    "cr_termS = pd.read_excel(file_path, sheet_name='credit_risk_term_structure')\n",
    "ir_params = pd.read_excel(file_path, sheet_name='interest_rate_parameters')\n",
    "cr_params = pd.read_excel(file_path, sheet_name='credit_risk_parameters')\n",
    "ir_params['sigma'] *= 1.1\n",
    "ssrd = generate_ssrd_model(ir_termS, cr_termS, ir_params, cr_params, ssrd_params)\n",
    "funding_cost, risk_free_rate, credit_premia = simulate_funding_cost(ssrd, liquidity_risk_bps, risk_margin_bps)\n",
    "clv_labels, trancheClvs, clv_for_excel = find_clv(loan_tranches, funding_cost, risk_free_rate, max_loan_tenure)\n",
    "clv_tables.append(clv_for_excel)\n",
    "clv_sheet_names.append('with_interest_inc_vol_stress')\n",
    "plot_clv(clv_labels, trancheClvs, max_loan_tenure, top_tranche_clv_to_display, 'with_interest_increase_vol_stress');\n",
    "display_clv(clv_for_excel)"
   ],
   "metadata": {
    "collapsed": false
   }
  },
  {
   "cell_type": "markdown",
   "source": [
    "### Under 0.9 interest rate vol stress"
   ],
   "metadata": {
    "collapsed": false
   }
  },
  {
   "cell_type": "code",
   "execution_count": null,
   "outputs": [],
   "source": [
    "file_path = \"data.xlsx\"\n",
    "ir_termS = pd.read_excel(file_path, sheet_name='interest_rate_term_structure')\n",
    "cr_termS = pd.read_excel(file_path, sheet_name='credit_risk_term_structure')\n",
    "ir_params = pd.read_excel(file_path, sheet_name='interest_rate_parameters')\n",
    "cr_params = pd.read_excel(file_path, sheet_name='credit_risk_parameters')\n",
    "ir_params['sigma'] *= 0.9\n",
    "ssrd = generate_ssrd_model(ir_termS, cr_termS, ir_params, cr_params, ssrd_params)\n",
    "funding_cost, risk_free_rate, credit_premia = simulate_funding_cost(ssrd, liquidity_risk_bps, risk_margin_bps)\n",
    "clv_labels, trancheClvs, clv_for_excel = find_clv(loan_tranches, funding_cost, risk_free_rate, max_loan_tenure)\n",
    "clv_tables.append(clv_for_excel)\n",
    "clv_sheet_names.append('with_interest_dec_vol_stress')\n",
    "plot_clv(clv_labels, trancheClvs, max_loan_tenure, top_tranche_clv_to_display, 'with_interest_decrease_vol_stress');\n",
    "display_clv(clv_for_excel)"
   ],
   "metadata": {
    "collapsed": false
   }
  },
  {
   "cell_type": "markdown",
   "source": [
    "### Under credit risk 1.1 vol stress"
   ],
   "metadata": {
    "collapsed": false
   }
  },
  {
   "cell_type": "code",
   "execution_count": null,
   "outputs": [],
   "source": [
    "file_path = \"data.xlsx\"\n",
    "ir_termS = pd.read_excel(file_path, sheet_name='interest_rate_term_structure')\n",
    "cr_termS = pd.read_excel(file_path, sheet_name='credit_risk_term_structure')\n",
    "ir_params = pd.read_excel(file_path, sheet_name='interest_rate_parameters')\n",
    "cr_params = pd.read_excel(file_path, sheet_name='credit_risk_parameters')\n",
    "cr_params['sigma'] *= 1.1\n",
    "ssrd = generate_ssrd_model(ir_termS, cr_termS, ir_params, cr_params, ssrd_params)\n",
    "funding_cost, risk_free_rate, credit_premia = simulate_funding_cost(ssrd, liquidity_risk_bps, risk_margin_bps)\n",
    "clv_labels, trancheClvs, clv_for_excel = find_clv(loan_tranches, funding_cost, risk_free_rate, max_loan_tenure)\n",
    "clv_tables.append(clv_for_excel)\n",
    "clv_sheet_names.append('with_credit_inc_vol_stress')\n",
    "plot_clv(clv_labels, trancheClvs, max_loan_tenure, top_tranche_clv_to_display, 'with_credit_increase_vol_stress');\n",
    "display_clv(clv_for_excel)"
   ],
   "metadata": {
    "collapsed": false
   }
  },
  {
   "cell_type": "markdown",
   "source": [
    "### Under credit risk 0.9 vol stress"
   ],
   "metadata": {
    "collapsed": false
   }
  },
  {
   "cell_type": "code",
   "execution_count": null,
   "outputs": [],
   "source": [
    "file_path = \"data.xlsx\"\n",
    "ir_termS = pd.read_excel(file_path, sheet_name='interest_rate_term_structure')\n",
    "cr_termS = pd.read_excel(file_path, sheet_name='credit_risk_term_structure')\n",
    "ir_params = pd.read_excel(file_path, sheet_name='interest_rate_parameters')\n",
    "cr_params = pd.read_excel(file_path, sheet_name='credit_risk_parameters')\n",
    "cr_params['sigma'] *= 0.9\n",
    "ssrd = generate_ssrd_model(ir_termS, cr_termS, ir_params, cr_params, ssrd_params)\n",
    "funding_cost, risk_free_rate, credit_premia = simulate_funding_cost(ssrd, liquidity_risk_bps, risk_margin_bps)\n",
    "clv_labels, trancheClvs, clv_for_excel = find_clv(loan_tranches, funding_cost, risk_free_rate, max_loan_tenure)\n",
    "clv_tables.append(clv_for_excel)\n",
    "clv_sheet_names.append('with_credit_dec_vol_stress')\n",
    "plot_clv(clv_labels, trancheClvs, max_loan_tenure, top_tranche_clv_to_display, 'with_credit_increase_dec_stress');\n",
    "display_clv(clv_for_excel)"
   ],
   "metadata": {
    "collapsed": false
   }
  },
  {
   "cell_type": "markdown",
   "source": [
    "### Under interest rate parallel shift stress +10 bps"
   ],
   "metadata": {
    "collapsed": false
   }
  },
  {
   "cell_type": "code",
   "execution_count": null,
   "outputs": [],
   "source": [
    "file_path = \"data.xlsx\"\n",
    "ir_termS = pd.read_excel(file_path, sheet_name='interest_rate_term_structure')\n",
    "cr_termS = pd.read_excel(file_path, sheet_name='credit_risk_term_structure')\n",
    "ir_params = pd.read_excel(file_path, sheet_name='interest_rate_parameters')\n",
    "cr_params = pd.read_excel(file_path, sheet_name='credit_risk_parameters')\n",
    "ir_termS['rate'] += 0.001\n",
    "ssrd = generate_ssrd_model(ir_termS, cr_termS, ir_params, cr_params, ssrd_params)\n",
    "funding_cost, risk_free_rate, credit_premia = simulate_funding_cost(ssrd, liquidity_risk_bps, risk_margin_bps)\n",
    "clv_labels, trancheClvs, clv_for_excel = find_clv(loan_tranches, funding_cost, risk_free_rate, max_loan_tenure)\n",
    "clv_tables.append(clv_for_excel)\n",
    "clv_sheet_names.append('with_int_term_inc_10bps_stress')\n",
    "plot_clv(clv_labels, trancheClvs, max_loan_tenure, top_tranche_clv_to_display, 'with_int_term_inc_10bps_stress');\n",
    "display_clv(clv_for_excel)"
   ],
   "metadata": {
    "collapsed": false
   }
  },
  {
   "cell_type": "markdown",
   "source": [
    "### Under interest rate parallel shift stress -10 bps"
   ],
   "metadata": {
    "collapsed": false
   }
  },
  {
   "cell_type": "code",
   "execution_count": null,
   "outputs": [],
   "source": [
    "file_path = \"data.xlsx\"\n",
    "ir_termS = pd.read_excel(file_path, sheet_name='interest_rate_term_structure')\n",
    "cr_termS = pd.read_excel(file_path, sheet_name='credit_risk_term_structure')\n",
    "ir_params = pd.read_excel(file_path, sheet_name='interest_rate_parameters')\n",
    "cr_params = pd.read_excel(file_path, sheet_name='credit_risk_parameters')\n",
    "ir_termS['rate'] -= 0.001\n",
    "ssrd = generate_ssrd_model(ir_termS, cr_termS, ir_params, cr_params, ssrd_params)\n",
    "funding_cost, risk_free_rate, credit_premia = simulate_funding_cost(ssrd, liquidity_risk_bps, risk_margin_bps)\n",
    "clv_labels, trancheClvs, clv_for_excel = find_clv(loan_tranches, funding_cost, risk_free_rate, max_loan_tenure)\n",
    "clv_tables.append(clv_for_excel)\n",
    "clv_sheet_names.append('with_int_term_dec_10bps_stress')\n",
    "plot_clv(clv_labels, trancheClvs, max_loan_tenure, top_tranche_clv_to_display, 'with_int_term_dec_10bps_stress');\n",
    "display_clv(clv_for_excel)"
   ],
   "metadata": {
    "collapsed": false
   }
  },
  {
   "cell_type": "markdown",
   "source": [
    "### Under credit spread parallel shift stress +10 bps"
   ],
   "metadata": {
    "collapsed": false
   }
  },
  {
   "cell_type": "code",
   "execution_count": null,
   "outputs": [],
   "source": [
    "file_path = \"data.xlsx\"\n",
    "ir_termS = pd.read_excel(file_path, sheet_name='interest_rate_term_structure')\n",
    "cr_termS = pd.read_excel(file_path, sheet_name='credit_risk_term_structure')\n",
    "ir_params = pd.read_excel(file_path, sheet_name='interest_rate_parameters')\n",
    "cr_params = pd.read_excel(file_path, sheet_name='credit_risk_parameters')\n",
    "cr_termS['spread'] += 0.001\n",
    "ssrd = generate_ssrd_model(ir_termS, cr_termS, ir_params, cr_params, ssrd_params)\n",
    "funding_cost, risk_free_rate, credit_premia = simulate_funding_cost(ssrd, liquidity_risk_bps, risk_margin_bps)\n",
    "clv_labels, trancheClvs, clv_for_excel = find_clv(loan_tranches, funding_cost, risk_free_rate, max_loan_tenure)\n",
    "clv_tables.append(clv_for_excel)\n",
    "clv_sheet_names.append('with_cre_term_inc_10bps_stress')\n",
    "plot_clv(clv_labels, trancheClvs, max_loan_tenure, top_tranche_clv_to_display, 'with_cre_term_inc_10bps_stress');\n",
    "display_clv(clv_for_excel)"
   ],
   "metadata": {
    "collapsed": false
   }
  },
  {
   "cell_type": "markdown",
   "source": [
    "### Under credit spread parallel shift stress -10 bps"
   ],
   "metadata": {
    "collapsed": false
   }
  },
  {
   "cell_type": "code",
   "execution_count": null,
   "outputs": [],
   "source": [
    "file_path = \"data.xlsx\"\n",
    "ir_termS = pd.read_excel(file_path, sheet_name='interest_rate_term_structure')\n",
    "cr_termS = pd.read_excel(file_path, sheet_name='credit_risk_term_structure')\n",
    "ir_params = pd.read_excel(file_path, sheet_name='interest_rate_parameters')\n",
    "cr_params = pd.read_excel(file_path, sheet_name='credit_risk_parameters')\n",
    "cr_termS['spread'] -= 0.001\n",
    "ssrd = generate_ssrd_model(ir_termS, cr_termS, ir_params, cr_params, ssrd_params)\n",
    "funding_cost, risk_free_rate, credit_premia = simulate_funding_cost(ssrd, liquidity_risk_bps, risk_margin_bps)\n",
    "clv_labels, trancheClvs, clv_for_excel = find_clv(loan_tranches, funding_cost, risk_free_rate, max_loan_tenure)\n",
    "clv_tables.append(clv_for_excel)\n",
    "clv_sheet_names.append('with_cre_term_dec_10bps_stress')\n",
    "plot_clv(clv_labels, trancheClvs, max_loan_tenure, top_tranche_clv_to_display, 'with_cre_term_dec_10bps_stress');\n",
    "display_clv(clv_for_excel)"
   ],
   "metadata": {
    "collapsed": false
   }
  },
  {
   "cell_type": "markdown",
   "source": [
    "### With Normal yield curve(downward curve)"
   ],
   "metadata": {
    "collapsed": false
   }
  },
  {
   "cell_type": "code",
   "execution_count": null,
   "outputs": [],
   "source": [
    "file_path = \"data.xlsx\"\n",
    "ir_termS = pd.read_excel(file_path, sheet_name='interest_rate_term_structure')\n",
    "cr_termS = pd.read_excel(file_path, sheet_name='credit_risk_term_structure')\n",
    "ir_params = pd.read_excel(file_path, sheet_name='interest_rate_parameters')\n",
    "cr_params = pd.read_excel(file_path, sheet_name='credit_risk_parameters')\n",
    "max_index = np.argmax(ir_termS['rate'])\n",
    "ir_termS.loc[max_index:, 'rate'] = ir_termS['rate'][max_index]\n",
    "ssrd = generate_ssrd_model(ir_termS, cr_termS, ir_params, cr_params, ssrd_params)\n",
    "funding_cost, risk_free_rate, credit_premia = simulate_funding_cost(ssrd, liquidity_risk_bps, risk_margin_bps)\n",
    "clv_labels, trancheClvs, clv_for_excel = find_clv(loan_tranches, funding_cost, risk_free_rate, max_loan_tenure)\n",
    "clv_tables.append(clv_for_excel)\n",
    "clv_sheet_names.append('with_interest_normalised')\n",
    "plot_clv(clv_labels, trancheClvs, max_loan_tenure, top_tranche_clv_to_display, 'with_interest_normalised');\n",
    "display_clv(clv_for_excel)"
   ],
   "metadata": {
    "collapsed": false
   }
  },
  {
   "cell_type": "markdown",
   "source": [
    "### Under less stress on initial curve and more on the end"
   ],
   "metadata": {
    "collapsed": false
   }
  },
  {
   "cell_type": "code",
   "execution_count": null,
   "outputs": [],
   "source": [
    "file_path = \"data.xlsx\"\n",
    "ir_termS = pd.read_excel(file_path, sheet_name='interest_rate_term_structure')\n",
    "cr_termS = pd.read_excel(file_path, sheet_name='credit_risk_term_structure')\n",
    "ir_params = pd.read_excel(file_path, sheet_name='interest_rate_parameters')\n",
    "cr_params = pd.read_excel(file_path, sheet_name='credit_risk_parameters')\n",
    "ir_termS['rate'] += 0.001\n",
    "ir_termS.loc[len(ir_termS)/2:, 'rate'] += 0.001\n",
    "ssrd = generate_ssrd_model(ir_termS, cr_termS, ir_params, cr_params, ssrd_params)\n",
    "funding_cost, risk_free_rate, credit_premia = simulate_funding_cost(ssrd, liquidity_risk_bps, risk_margin_bps)\n",
    "clv_labels, trancheClvs, clv_for_excel = find_clv(loan_tranches, funding_cost, risk_free_rate, max_loan_tenure)\n",
    "clv_tables.append(clv_for_excel)\n",
    "clv_sheet_names.append('with_int_term_back_more_stress')\n",
    "plot_clv(clv_labels, trancheClvs, max_loan_tenure, top_tranche_clv_to_display, 'with_int_term_backend_more_stress');\n",
    "display_clv(clv_for_excel)"
   ],
   "metadata": {
    "collapsed": false
   }
  },
  {
   "cell_type": "markdown",
   "source": [
    "### Under combined stress in vol and yield curve interest rate(increase)"
   ],
   "metadata": {
    "collapsed": false
   }
  },
  {
   "cell_type": "code",
   "execution_count": null,
   "outputs": [],
   "source": [
    "file_path = \"data.xlsx\"\n",
    "ir_termS = pd.read_excel(file_path, sheet_name='interest_rate_term_structure')\n",
    "cr_termS = pd.read_excel(file_path, sheet_name='credit_risk_term_structure')\n",
    "ir_params = pd.read_excel(file_path, sheet_name='interest_rate_parameters')\n",
    "cr_params = pd.read_excel(file_path, sheet_name='credit_risk_parameters')\n",
    "ir_termS['rate'] += 0.001\n",
    "ir_params['sigma'] *= 1.1\n",
    "ssrd = generate_ssrd_model(ir_termS, cr_termS, ir_params, cr_params, ssrd_params)\n",
    "funding_cost, risk_free_rate, credit_premia = simulate_funding_cost(ssrd, liquidity_risk_bps, risk_margin_bps)\n",
    "clv_labels, trancheClvs, clv_for_excel = find_clv(loan_tranches, funding_cost, risk_free_rate, max_loan_tenure)\n",
    "clv_tables.append(clv_for_excel)\n",
    "clv_sheet_names.append('with_int_term_vol_inc_stress')\n",
    "plot_clv(clv_labels, trancheClvs, max_loan_tenure, top_tranche_clv_to_display, 'with_int_term_vol_increase_stress');\n",
    "display_clv(clv_for_excel)"
   ],
   "metadata": {
    "collapsed": false
   }
  },
  {
   "cell_type": "markdown",
   "source": [
    "### Under combined stress in vol and yield curve interest rate(decrease)"
   ],
   "metadata": {
    "collapsed": false
   }
  },
  {
   "cell_type": "code",
   "execution_count": null,
   "outputs": [],
   "source": [
    "file_path = \"data.xlsx\"\n",
    "ir_termS = pd.read_excel(file_path, sheet_name='interest_rate_term_structure')\n",
    "cr_termS = pd.read_excel(file_path, sheet_name='credit_risk_term_structure')\n",
    "ir_params = pd.read_excel(file_path, sheet_name='interest_rate_parameters')\n",
    "cr_params = pd.read_excel(file_path, sheet_name='credit_risk_parameters')\n",
    "ir_termS['rate'] -= 0.001\n",
    "ir_params['sigma'] *= 0.9\n",
    "ssrd = generate_ssrd_model(ir_termS, cr_termS, ir_params, cr_params, ssrd_params)\n",
    "funding_cost, risk_free_rate, credit_premia = simulate_funding_cost(ssrd, liquidity_risk_bps, risk_margin_bps)\n",
    "clv_labels, trancheClvs, clv_for_excel = find_clv(loan_tranches, funding_cost, risk_free_rate, max_loan_tenure)\n",
    "clv_tables.append(clv_for_excel)\n",
    "clv_sheet_names.append('with_int_term_vol_dec_stress')\n",
    "plot_clv(clv_labels, trancheClvs, max_loan_tenure, top_tranche_clv_to_display, 'with_int_term_vol_increase_stress');\n",
    "display_clv(clv_for_excel)"
   ],
   "metadata": {
    "collapsed": false
   }
  },
  {
   "cell_type": "markdown",
   "source": [
    "### Under combined stress in vol(increase) and yield curve(decrease) interest rate"
   ],
   "metadata": {
    "collapsed": false
   }
  },
  {
   "cell_type": "code",
   "execution_count": null,
   "outputs": [],
   "source": [
    "file_path = \"data.xlsx\"\n",
    "ir_termS = pd.read_excel(file_path, sheet_name='interest_rate_term_structure')\n",
    "cr_termS = pd.read_excel(file_path, sheet_name='credit_risk_term_structure')\n",
    "ir_params = pd.read_excel(file_path, sheet_name='interest_rate_parameters')\n",
    "cr_params = pd.read_excel(file_path, sheet_name='credit_risk_parameters')\n",
    "ir_termS['rate'] -= 0.001\n",
    "ir_params['sigma'] *= 1.1\n",
    "ssrd = generate_ssrd_model(ir_termS, cr_termS, ir_params, cr_params, ssrd_params)\n",
    "funding_cost, risk_free_rate, credit_premia = simulate_funding_cost(ssrd, liquidity_risk_bps, risk_margin_bps)\n",
    "clv_labels, trancheClvs, clv_for_excel = find_clv(loan_tranches, funding_cost, risk_free_rate, max_loan_tenure)\n",
    "clv_tables.append(clv_for_excel)\n",
    "clv_sheet_names.append('with_int_term_dec_vol_inc')\n",
    "plot_clv(clv_labels, trancheClvs, max_loan_tenure, top_tranche_clv_to_display, 'with_int_term_dec_vol_inc');\n",
    "display_clv(clv_for_excel)"
   ],
   "metadata": {
    "collapsed": false
   }
  },
  {
   "cell_type": "markdown",
   "source": [
    "### Under combined stress in vol(decrease) and yield curve(increase) interest rate"
   ],
   "metadata": {
    "collapsed": false
   }
  },
  {
   "cell_type": "code",
   "execution_count": null,
   "outputs": [],
   "source": [
    "file_path = \"data.xlsx\"\n",
    "ir_termS = pd.read_excel(file_path, sheet_name='interest_rate_term_structure')\n",
    "cr_termS = pd.read_excel(file_path, sheet_name='credit_risk_term_structure')\n",
    "ir_params = pd.read_excel(file_path, sheet_name='interest_rate_parameters')\n",
    "cr_params = pd.read_excel(file_path, sheet_name='credit_risk_parameters')\n",
    "ir_termS['rate'] += 0.001\n",
    "ir_params['sigma'] *= 0.9\n",
    "ssrd = generate_ssrd_model(ir_termS, cr_termS, ir_params, cr_params, ssrd_params)\n",
    "funding_cost, risk_free_rate, credit_premia = simulate_funding_cost(ssrd, liquidity_risk_bps, risk_margin_bps)\n",
    "clv_labels, trancheClvs, clv_for_excel = find_clv(loan_tranches, funding_cost, risk_free_rate, max_loan_tenure)\n",
    "clv_tables.append(clv_for_excel)\n",
    "clv_sheet_names.append('with_int_term_inc_vol_dec')\n",
    "plot_clv(clv_labels, trancheClvs, max_loan_tenure, top_tranche_clv_to_display, 'with_int_term_inc_vol_dec');\n",
    "display_clv(clv_for_excel)"
   ],
   "metadata": {
    "collapsed": false
   }
  },
  {
   "cell_type": "code",
   "execution_count": null,
   "outputs": [],
   "source": [
    "write_clv_to_excel(clv_tables, clv_sheet_names)"
   ],
   "metadata": {
    "collapsed": false
   }
  },
  {
   "cell_type": "code",
   "execution_count": null,
   "outputs": [],
   "source": [],
   "metadata": {
    "collapsed": false
   }
  }
 ],
 "metadata": {
  "kernelspec": {
   "display_name": "Python 3",
   "language": "python",
   "name": "python3"
  },
  "language_info": {
   "codemirror_mode": {
    "name": "ipython",
    "version": 2
   },
   "file_extension": ".py",
   "mimetype": "text/x-python",
   "name": "python",
   "nbconvert_exporter": "python",
   "pygments_lexer": "ipython2",
   "version": "2.7.6"
  }
 },
 "nbformat": 4,
 "nbformat_minor": 0
}
